{
 "cells": [
  {
   "cell_type": "code",
   "execution_count": 1,
   "metadata": {},
   "outputs": [
    {
     "name": "stdout",
     "output_type": "stream",
     "text": [
      "0    10\n",
      "1    20\n",
      "2    30\n",
      "3    40\n",
      "dtype: int64\n"
     ]
    }
   ],
   "source": [
    "import pandas as pd\n",
    "data = [10, 20, 30, 40]\n",
    "v = pd.Series(data)\n",
    "print(v)"
   ]
  },
  {
   "cell_type": "code",
   "execution_count": 2,
   "metadata": {},
   "outputs": [
    {
     "name": "stdout",
     "output_type": "stream",
     "text": [
      "      Name  Age         City\n",
      "0    Alice   25     New York\n",
      "1      Bob   30  Los Angeles\n",
      "2  Charlie   35      Chicago\n",
      "      Name  Age         City\n",
      "0    Alice   25     New York\n",
      "1      Bob   30  Los Angeles\n",
      "2  Charlie   35      Chicago\n"
     ]
    }
   ],
   "source": [
    "data = {\n",
    "'Name': ['Alice', 'Bob', 'Charlie'],\n",
    "'Age' : [25, 30, 35],\n",
    "'City': ['New York', 'Los Angeles', 'Chicago']\n",
    "}\n",
    "df = pd.DataFrame(data)\n",
    "print(df)\n",
    "print(df.tail())"
   ]
  },
  {
   "cell_type": "code",
   "execution_count": 4,
   "metadata": {},
   "outputs": [
    {
     "data": {
      "text/html": [
       "<div>\n",
       "<style scoped>\n",
       "    .dataframe tbody tr th:only-of-type {\n",
       "        vertical-align: middle;\n",
       "    }\n",
       "\n",
       "    .dataframe tbody tr th {\n",
       "        vertical-align: top;\n",
       "    }\n",
       "\n",
       "    .dataframe thead th {\n",
       "        text-align: right;\n",
       "    }\n",
       "</style>\n",
       "<table border=\"1\" class=\"dataframe\">\n",
       "  <thead>\n",
       "    <tr style=\"text-align: right;\">\n",
       "      <th></th>\n",
       "      <th>I4127227587819694</th>\n",
       "      <th>8UX5SHHQ-FVEE-5XU7-FBF8-82OINYYK7KSD</th>\n",
       "      <th>1873.26</th>\n",
       "      <th>USD</th>\n",
       "      <th>6</th>\n",
       "      <th>A</th>\n",
       "      <th>P</th>\n",
       "      <th>173.225</th>\n",
       "      <th>connecticut</th>\n",
       "      <th>6840</th>\n",
       "      <th>...</th>\n",
       "      <th>6840.1</th>\n",
       "      <th>CT</th>\n",
       "      <th>US</th>\n",
       "      <th>6840.2</th>\n",
       "      <th>CT.1</th>\n",
       "      <th>US.1</th>\n",
       "      <th>M</th>\n",
       "      <th>0</th>\n",
       "      <th>17</th>\n",
       "      <th>3/8/2007 18:03</th>\n",
       "    </tr>\n",
       "  </thead>\n",
       "  <tbody>\n",
       "    <tr>\n",
       "      <th>0</th>\n",
       "      <td>E9525730529761877</td>\n",
       "      <td>7LF834E4-BLWQ-FJ92-YEYA-85AF05RI2PCX</td>\n",
       "      <td>740.66</td>\n",
       "      <td>USD</td>\n",
       "      <td>13</td>\n",
       "      <td>A</td>\n",
       "      <td>P</td>\n",
       "      <td>81.159</td>\n",
       "      <td>greater london</td>\n",
       "      <td>sw2</td>\n",
       "      <td>...</td>\n",
       "      <td>GU11 1YH</td>\n",
       "      <td>NaN</td>\n",
       "      <td>GB</td>\n",
       "      <td>GU11 1YH</td>\n",
       "      <td>NaN</td>\n",
       "      <td>GB</td>\n",
       "      <td>M</td>\n",
       "      <td>10</td>\n",
       "      <td>19</td>\n",
       "      <td>7/26/2007 2:36</td>\n",
       "    </tr>\n",
       "    <tr>\n",
       "      <th>1</th>\n",
       "      <td>Z6376643485803420</td>\n",
       "      <td>8ZFFW0QS-PN3Y-9N5U-28DW-6HFI162RGVVF</td>\n",
       "      <td>1535.15</td>\n",
       "      <td>USD</td>\n",
       "      <td>4</td>\n",
       "      <td>A</td>\n",
       "      <td>P</td>\n",
       "      <td>97.118</td>\n",
       "      <td>colorado</td>\n",
       "      <td>80126</td>\n",
       "      <td>...</td>\n",
       "      <td>80104</td>\n",
       "      <td>CO</td>\n",
       "      <td>US</td>\n",
       "      <td>80104</td>\n",
       "      <td>CO</td>\n",
       "      <td>US</td>\n",
       "      <td>M</td>\n",
       "      <td>6</td>\n",
       "      <td>24</td>\n",
       "      <td>4/7/2007 19:39</td>\n",
       "    </tr>\n",
       "    <tr>\n",
       "      <th>2</th>\n",
       "      <td>R8609290025411138</td>\n",
       "      <td>SVV7LJ8A-PG2L-JVNJ-66NF-HDSQ107UQO5N</td>\n",
       "      <td>1324.41</td>\n",
       "      <td>USD</td>\n",
       "      <td>13</td>\n",
       "      <td>A</td>\n",
       "      <td>P</td>\n",
       "      <td>216.150</td>\n",
       "      <td>new york</td>\n",
       "      <td>14534</td>\n",
       "      <td>...</td>\n",
       "      <td>85233</td>\n",
       "      <td>AZ</td>\n",
       "      <td>US</td>\n",
       "      <td>85233</td>\n",
       "      <td>AZ</td>\n",
       "      <td>US</td>\n",
       "      <td>M</td>\n",
       "      <td>9</td>\n",
       "      <td>7</td>\n",
       "      <td>5/16/2007 11:37</td>\n",
       "    </tr>\n",
       "    <tr>\n",
       "      <th>3</th>\n",
       "      <td>Y9572700698484288</td>\n",
       "      <td>3SWVJA0R-MZ11-RM1T-E0BJ-XACU1NOQQRNC</td>\n",
       "      <td>697.31</td>\n",
       "      <td>BRL</td>\n",
       "      <td>14</td>\n",
       "      <td>A</td>\n",
       "      <td>P</td>\n",
       "      <td>91.119</td>\n",
       "      <td>wien</td>\n",
       "      <td>1000</td>\n",
       "      <td>...</td>\n",
       "      <td>1220</td>\n",
       "      <td>NaN</td>\n",
       "      <td>AT</td>\n",
       "      <td>1220</td>\n",
       "      <td>NaN</td>\n",
       "      <td>AT</td>\n",
       "      <td>M</td>\n",
       "      <td>0</td>\n",
       "      <td>25</td>\n",
       "      <td>10/18/2007 12:52</td>\n",
       "    </tr>\n",
       "    <tr>\n",
       "      <th>4</th>\n",
       "      <td>W9847720367646182</td>\n",
       "      <td>IG442ZIB-TJCR-V83L-0L8J-RHLM8MWX8MFK</td>\n",
       "      <td>575.16</td>\n",
       "      <td>USD</td>\n",
       "      <td>10</td>\n",
       "      <td>A</td>\n",
       "      <td>P</td>\n",
       "      <td>75.115</td>\n",
       "      <td>florida</td>\n",
       "      <td>33578</td>\n",
       "      <td>...</td>\n",
       "      <td>NaN</td>\n",
       "      <td>NaN</td>\n",
       "      <td>US</td>\n",
       "      <td>NaN</td>\n",
       "      <td>NaN</td>\n",
       "      <td>US</td>\n",
       "      <td>M</td>\n",
       "      <td>8</td>\n",
       "      <td>4</td>\n",
       "      <td>2/11/2007 1:59</td>\n",
       "    </tr>\n",
       "    <tr>\n",
       "      <th>...</th>\n",
       "      <td>...</td>\n",
       "      <td>...</td>\n",
       "      <td>...</td>\n",
       "      <td>...</td>\n",
       "      <td>...</td>\n",
       "      <td>...</td>\n",
       "      <td>...</td>\n",
       "      <td>...</td>\n",
       "      <td>...</td>\n",
       "      <td>...</td>\n",
       "      <td>...</td>\n",
       "      <td>...</td>\n",
       "      <td>...</td>\n",
       "      <td>...</td>\n",
       "      <td>...</td>\n",
       "      <td>...</td>\n",
       "      <td>...</td>\n",
       "      <td>...</td>\n",
       "      <td>...</td>\n",
       "      <td>...</td>\n",
       "      <td>...</td>\n",
       "    </tr>\n",
       "    <tr>\n",
       "      <th>599994</th>\n",
       "      <td>D1595308067004247</td>\n",
       "      <td>3WHRE067-I1NS-HAEM-31XD-HB7NA8AI88PW</td>\n",
       "      <td>345.96</td>\n",
       "      <td>USD</td>\n",
       "      <td>7</td>\n",
       "      <td>A</td>\n",
       "      <td>P</td>\n",
       "      <td>208.130</td>\n",
       "      <td>massachusetts</td>\n",
       "      <td>2090</td>\n",
       "      <td>...</td>\n",
       "      <td>7740</td>\n",
       "      <td>NJ</td>\n",
       "      <td>US</td>\n",
       "      <td>7740</td>\n",
       "      <td>NJ</td>\n",
       "      <td>US</td>\n",
       "      <td>M</td>\n",
       "      <td>3</td>\n",
       "      <td>15</td>\n",
       "      <td>2/14/2007 2:59</td>\n",
       "    </tr>\n",
       "    <tr>\n",
       "      <th>599995</th>\n",
       "      <td>J5495623173883302</td>\n",
       "      <td>M6UO86XP-FOI7-GVTB-UJW1-R2EY66PCAJPJ</td>\n",
       "      <td>336.57</td>\n",
       "      <td>USD</td>\n",
       "      <td>10</td>\n",
       "      <td>A</td>\n",
       "      <td>P</td>\n",
       "      <td>78.114</td>\n",
       "      <td>paris</td>\n",
       "      <td>75001</td>\n",
       "      <td>...</td>\n",
       "      <td>69003</td>\n",
       "      <td>NaN</td>\n",
       "      <td>FR</td>\n",
       "      <td>69003</td>\n",
       "      <td>NaN</td>\n",
       "      <td>FR</td>\n",
       "      <td>M</td>\n",
       "      <td>1</td>\n",
       "      <td>4</td>\n",
       "      <td>2/20/2007 18:36</td>\n",
       "    </tr>\n",
       "    <tr>\n",
       "      <th>599996</th>\n",
       "      <td>C6028543887959060</td>\n",
       "      <td>Z8U9OVR5-ILKB-J4MI-5TVW-167E4N28NO4G</td>\n",
       "      <td>1851.27</td>\n",
       "      <td>USD</td>\n",
       "      <td>9</td>\n",
       "      <td>A</td>\n",
       "      <td>P</td>\n",
       "      <td>62.140</td>\n",
       "      <td>noord-holland</td>\n",
       "      <td>1099</td>\n",
       "      <td>...</td>\n",
       "      <td>5643 NT</td>\n",
       "      <td>NaN</td>\n",
       "      <td>NL</td>\n",
       "      <td>5643 NT</td>\n",
       "      <td>NaN</td>\n",
       "      <td>NL</td>\n",
       "      <td>M</td>\n",
       "      <td>0</td>\n",
       "      <td>22</td>\n",
       "      <td>2/18/2007 9:11</td>\n",
       "    </tr>\n",
       "    <tr>\n",
       "      <th>599997</th>\n",
       "      <td>V6352687558381604</td>\n",
       "      <td>FMBDPLHD-87B7-E3FZ-D70K-NU93TUOHANT2</td>\n",
       "      <td>274.40</td>\n",
       "      <td>USD</td>\n",
       "      <td>1</td>\n",
       "      <td>A</td>\n",
       "      <td>P</td>\n",
       "      <td>99.130</td>\n",
       "      <td>kansas</td>\n",
       "      <td>66250</td>\n",
       "      <td>...</td>\n",
       "      <td>64138</td>\n",
       "      <td>MO</td>\n",
       "      <td>US</td>\n",
       "      <td>64138</td>\n",
       "      <td>MO</td>\n",
       "      <td>US</td>\n",
       "      <td>M</td>\n",
       "      <td>2</td>\n",
       "      <td>11</td>\n",
       "      <td>8/5/2007 14:11</td>\n",
       "    </tr>\n",
       "    <tr>\n",
       "      <th>599998</th>\n",
       "      <td>B2862330974862571</td>\n",
       "      <td>JR5AYAHF-SP4Z-WHPN-GZ90-VUEEQWNTPPK6</td>\n",
       "      <td>456.14</td>\n",
       "      <td>USD</td>\n",
       "      <td>10</td>\n",
       "      <td>A</td>\n",
       "      <td>P</td>\n",
       "      <td>131.107</td>\n",
       "      <td>washington</td>\n",
       "      <td>98052</td>\n",
       "      <td>...</td>\n",
       "      <td>107-8420</td>\n",
       "      <td>???</td>\n",
       "      <td>JP</td>\n",
       "      <td>107-8420</td>\n",
       "      <td>???</td>\n",
       "      <td>JP</td>\n",
       "      <td>M</td>\n",
       "      <td>10</td>\n",
       "      <td>20</td>\n",
       "      <td>8/9/2007 22:36</td>\n",
       "    </tr>\n",
       "  </tbody>\n",
       "</table>\n",
       "<p>599999 rows × 25 columns</p>\n",
       "</div>"
      ],
      "text/plain": [
       "        I4127227587819694  8UX5SHHQ-FVEE-5XU7-FBF8-82OINYYK7KSD  1873.26  USD  \\\n",
       "0       E9525730529761877  7LF834E4-BLWQ-FJ92-YEYA-85AF05RI2PCX   740.66  USD   \n",
       "1       Z6376643485803420  8ZFFW0QS-PN3Y-9N5U-28DW-6HFI162RGVVF  1535.15  USD   \n",
       "2       R8609290025411138  SVV7LJ8A-PG2L-JVNJ-66NF-HDSQ107UQO5N  1324.41  USD   \n",
       "3       Y9572700698484288  3SWVJA0R-MZ11-RM1T-E0BJ-XACU1NOQQRNC   697.31  BRL   \n",
       "4       W9847720367646182  IG442ZIB-TJCR-V83L-0L8J-RHLM8MWX8MFK   575.16  USD   \n",
       "...                   ...                                   ...      ...  ...   \n",
       "599994  D1595308067004247  3WHRE067-I1NS-HAEM-31XD-HB7NA8AI88PW   345.96  USD   \n",
       "599995  J5495623173883302  M6UO86XP-FOI7-GVTB-UJW1-R2EY66PCAJPJ   336.57  USD   \n",
       "599996  C6028543887959060  Z8U9OVR5-ILKB-J4MI-5TVW-167E4N28NO4G  1851.27  USD   \n",
       "599997  V6352687558381604  FMBDPLHD-87B7-E3FZ-D70K-NU93TUOHANT2   274.40  USD   \n",
       "599998  B2862330974862571  JR5AYAHF-SP4Z-WHPN-GZ90-VUEEQWNTPPK6   456.14  USD   \n",
       "\n",
       "         6  A  P  173.225     connecticut   6840  ...    6840.1   CT  US  \\\n",
       "0       13  A  P   81.159  greater london    sw2  ...  GU11 1YH  NaN  GB   \n",
       "1        4  A  P   97.118        colorado  80126  ...     80104   CO  US   \n",
       "2       13  A  P  216.150        new york  14534  ...     85233   AZ  US   \n",
       "3       14  A  P   91.119            wien   1000  ...      1220  NaN  AT   \n",
       "4       10  A  P   75.115         florida  33578  ...       NaN  NaN  US   \n",
       "...     .. .. ..      ...             ...    ...  ...       ...  ...  ..   \n",
       "599994   7  A  P  208.130   massachusetts   2090  ...      7740   NJ  US   \n",
       "599995  10  A  P   78.114           paris  75001  ...     69003  NaN  FR   \n",
       "599996   9  A  P   62.140   noord-holland   1099  ...   5643 NT  NaN  NL   \n",
       "599997   1  A  P   99.130          kansas  66250  ...     64138   MO  US   \n",
       "599998  10  A  P  131.107      washington  98052  ...  107-8420  ???  JP   \n",
       "\n",
       "          6840.2 CT.1 US.1  M   0  17    3/8/2007 18:03  \n",
       "0       GU11 1YH  NaN   GB  M  10  19    7/26/2007 2:36  \n",
       "1          80104   CO   US  M   6  24    4/7/2007 19:39  \n",
       "2          85233   AZ   US  M   9   7   5/16/2007 11:37  \n",
       "3           1220  NaN   AT  M   0  25  10/18/2007 12:52  \n",
       "4            NaN  NaN   US  M   8   4    2/11/2007 1:59  \n",
       "...          ...  ...  ... ..  ..  ..               ...  \n",
       "599994      7740   NJ   US  M   3  15    2/14/2007 2:59  \n",
       "599995     69003  NaN   FR  M   1   4   2/20/2007 18:36  \n",
       "599996   5643 NT  NaN   NL  M   0  22    2/18/2007 9:11  \n",
       "599997     64138   MO   US  M   2  11    8/5/2007 14:11  \n",
       "599998  107-8420  ???   JP  M  10  20    8/9/2007 22:36  \n",
       "\n",
       "[599999 rows x 25 columns]"
      ]
     },
     "execution_count": 4,
     "metadata": {},
     "output_type": "execute_result"
    }
   ],
   "source": [
    "import pandas as pd\n",
    "df = pd.read_csv('transactions.csv')\n",
    "print(df)\n"
   ]
  },
  {
   "cell_type": "code",
   "execution_count": 39,
   "metadata": {},
   "outputs": [
    {
     "name": "stdout",
     "output_type": "stream",
     "text": [
      "   TransactionID TransactionDate  UserID  ProductID  Quantity\n",
      "8              9      2015-04-24     7.0          4         3\n",
      "9             10      2016-05-08     3.0          4         4\n"
     ]
    }
   ],
   "source": [
    "print(df.tail(2)) #to get last 2 rows"
   ]
  },
  {
   "cell_type": "code",
   "execution_count": 14,
   "metadata": {},
   "outputs": [
    {
     "name": "stdout",
     "output_type": "stream",
     "text": [
      "   TransactionID TransactionDate  UserID  ProductID  Quantity\n",
      "0              1      2010-08-21     7.0          2         1\n",
      "1              2      2011-05-26     3.0          4         1\n"
     ]
    }
   ],
   "source": [
    "print(df.head(2)) #to get top 2 rows"
   ]
  },
  {
   "cell_type": "code",
   "execution_count": 15,
   "metadata": {},
   "outputs": [
    {
     "name": "stdout",
     "output_type": "stream",
     "text": [
      "<class 'pandas.core.frame.DataFrame'>\n",
      "RangeIndex: 10 entries, 0 to 9\n",
      "Data columns (total 5 columns):\n",
      " #   Column           Non-Null Count  Dtype  \n",
      "---  ------           --------------  -----  \n",
      " 0   TransactionID    10 non-null     int64  \n",
      " 1   TransactionDate  10 non-null     object \n",
      " 2   UserID           9 non-null      float64\n",
      " 3   ProductID        10 non-null     int64  \n",
      " 4   Quantity         10 non-null     int64  \n",
      "dtypes: float64(1), int64(3), object(1)\n",
      "memory usage: 528.0+ bytes\n",
      "None\n"
     ]
    }
   ],
   "source": [
    "print(df.info())"
   ]
  },
  {
   "cell_type": "code",
   "execution_count": 36,
   "metadata": {},
   "outputs": [
    {
     "name": "stdout",
     "output_type": "stream",
     "text": [
      "               0\n",
      "count   4.000000\n",
      "mean   25.000000\n",
      "std    12.909944\n",
      "min    10.000000\n",
      "25%    17.500000\n",
      "50%    25.000000\n",
      "75%    32.500000\n",
      "max    40.000000\n"
     ]
    }
   ],
   "source": [
    "print(df.describe()) #summary of dataset"
   ]
  },
  {
   "cell_type": "code",
   "execution_count": 40,
   "metadata": {},
   "outputs": [
    {
     "name": "stdout",
     "output_type": "stream",
     "text": [
      "0    7.0\n",
      "1    3.0\n",
      "2    3.0\n",
      "3    1.0\n",
      "4    2.0\n",
      "5    2.0\n",
      "6    3.0\n",
      "7    NaN\n",
      "8    7.0\n",
      "9    3.0\n",
      "Name: UserID, dtype: float64\n"
     ]
    }
   ],
   "source": [
    "print(df['UserID']) #to get a particular row"
   ]
  },
  {
   "cell_type": "code",
   "execution_count": 41,
   "metadata": {},
   "outputs": [
    {
     "name": "stdout",
     "output_type": "stream",
     "text": [
      "   ProductID  UserID\n",
      "0          2     7.0\n",
      "1          4     3.0\n",
      "2          3     3.0\n",
      "3          2     1.0\n",
      "4          4     2.0\n",
      "5          5     2.0\n",
      "6          4     3.0\n",
      "7          2     NaN\n",
      "8          4     7.0\n",
      "9          4     3.0\n"
     ]
    }
   ],
   "source": [
    "print(df[['ProductID','UserID']]) #to get multiple rows"
   ]
  },
  {
   "cell_type": "code",
   "execution_count": 42,
   "metadata": {},
   "outputs": [
    {
     "name": "stdout",
     "output_type": "stream",
     "text": [
      "TransactionID               2\n",
      "TransactionDate    2011-05-26\n",
      "UserID                    3.0\n",
      "ProductID                   4\n",
      "Quantity                    1\n",
      "Name: 1, dtype: object\n"
     ]
    }
   ],
   "source": [
    "print(df.iloc[1])"
   ]
  },
  {
   "cell_type": "code",
   "execution_count": 43,
   "metadata": {},
   "outputs": [
    {
     "name": "stdout",
     "output_type": "stream",
     "text": [
      "   TransactionID TransactionDate  UserID  ProductID  Quantity\n",
      "5              6      2013-12-23     2.0          5         6\n",
      "9             10      2016-05-08     3.0          4         4\n"
     ]
    }
   ],
   "source": [
    "filtered_df=df[df['Quantity']>3] #prints rows with quantity>3\n",
    "print(filtered_df)"
   ]
  },
  {
   "cell_type": "code",
   "execution_count": 44,
   "metadata": {},
   "outputs": [
    {
     "name": "stdout",
     "output_type": "stream",
     "text": [
      "   TransactionID TransactionDate  UserID  ProductID  Quant\n",
      "0              1      2010-08-21     7.0          2      1\n",
      "1              2      2011-05-26     3.0          4      1\n",
      "2              3      2011-06-16     3.0          3      1\n",
      "3              4      2012-08-26     1.0          2      3\n",
      "4              5      2013-06-06     2.0          4      1\n",
      "5              6      2013-12-23     2.0          5      6\n",
      "6              7      2013-12-30     3.0          4      1\n",
      "7              8      2014-04-24     NaN          2      3\n",
      "8              9      2015-04-24     7.0          4      3\n",
      "9             10      2016-05-08     3.0          4      4\n"
     ]
    }
   ],
   "source": [
    "df.rename(columns={'Quantity':'Quant'},inplace=True)\n",
    "print(df)"
   ]
  },
  {
   "cell_type": "code",
   "execution_count": 45,
   "metadata": {},
   "outputs": [
    {
     "name": "stdout",
     "output_type": "stream",
     "text": [
      "TransactionID      0\n",
      "TransactionDate    0\n",
      "UserID             1\n",
      "ProductID          0\n",
      "Quant              0\n",
      "dtype: int64\n"
     ]
    }
   ],
   "source": [
    "print(df.isnull().sum())"
   ]
  },
  {
   "cell_type": "code",
   "execution_count": 46,
   "metadata": {},
   "outputs": [
    {
     "name": "stdout",
     "output_type": "stream",
     "text": [
      "   TransactionID TransactionDate    UserID  ProductID  Quant\n",
      "0              1      2010-08-21  7.000000          2      1\n",
      "1              2      2011-05-26  3.000000          4      1\n",
      "2              3      2011-06-16  3.000000          3      1\n",
      "3              4      2012-08-26  1.000000          2      3\n",
      "4              5      2013-06-06  2.000000          4      1\n",
      "5              6      2013-12-23  2.000000          5      6\n",
      "6              7      2013-12-30  3.000000          4      1\n",
      "7              8      2014-04-24  3.444444          2      3\n",
      "8              9      2015-04-24  7.000000          4      3\n",
      "9             10      2016-05-08  3.000000          4      4\n"
     ]
    },
    {
     "name": "stderr",
     "output_type": "stream",
     "text": [
      "/tmp/ipykernel_3040/1174315164.py:1: FutureWarning: A value is trying to be set on a copy of a DataFrame or Series through chained assignment using an inplace method.\n",
      "The behavior will change in pandas 3.0. This inplace method will never work because the intermediate object on which we are setting values always behaves as a copy.\n",
      "\n",
      "For example, when doing 'df[col].method(value, inplace=True)', try using 'df.method({col: value}, inplace=True)' or df[col] = df[col].method(value) instead, to perform the operation inplace on the original object.\n",
      "\n",
      "\n",
      "  df['UserID'].fillna(df['UserID'].mean(),inplace=True)\n"
     ]
    }
   ],
   "source": [
    "df['UserID'].fillna(df['UserID'].mean(),inplace=True)\n",
    "print(df)"
   ]
  },
  {
   "cell_type": "code",
   "execution_count": 13,
   "metadata": {},
   "outputs": [
    {
     "name": "stdout",
     "output_type": "stream",
     "text": [
      "               0\n",
      "count   4.000000\n",
      "mean   25.000000\n",
      "std    12.909944\n",
      "min    10.000000\n",
      "25%    17.500000\n",
      "50%    25.000000\n",
      "75%    32.500000\n",
      "max    40.000000\n"
     ]
    }
   ],
   "source": [
    "#1. Print Summary of transaction data set\n",
    "print(df.describe())"
   ]
  },
  {
   "cell_type": "code",
   "execution_count": 21,
   "metadata": {},
   "outputs": [
    {
     "name": "stdout",
     "output_type": "stream",
     "text": [
      "    0\n",
      "0  10\n",
      "1  20\n",
      "2  30\n",
      "3  40\n",
      "1\n"
     ]
    }
   ],
   "source": [
    "#2. Print Numbers of Attributes\n",
    "\n",
    "print(len(df.columns))"
   ]
  },
  {
   "cell_type": "code",
   "execution_count": 15,
   "metadata": {},
   "outputs": [
    {
     "name": "stdout",
     "output_type": "stream",
     "text": [
      "4\n"
     ]
    }
   ],
   "source": [
    "#3. Print Numbers of Records\n",
    "print(len(df))"
   ]
  },
  {
   "cell_type": "code",
   "execution_count": 70,
   "metadata": {},
   "outputs": [],
   "source": [
    "#4. Get the row names"
   ]
  },
  {
   "cell_type": "code",
   "execution_count": 71,
   "metadata": {},
   "outputs": [],
   "source": [
    "#5. Get the column names"
   ]
  },
  {
   "cell_type": "code",
   "execution_count": 16,
   "metadata": {},
   "outputs": [
    {
     "name": "stdout",
     "output_type": "stream",
     "text": [
      "    0\n",
      "0  10\n",
      "1  20\n",
      "2  30\n",
      "3  40\n"
     ]
    }
   ],
   "source": [
    "#6. View top 10 Records\n",
    "print(df.head(10))"
   ]
  },
  {
   "cell_type": "code",
   "execution_count": 17,
   "metadata": {},
   "outputs": [
    {
     "name": "stdout",
     "output_type": "stream",
     "text": [
      "    0\n",
      "0  10\n",
      "1  20\n",
      "2  30\n",
      "3  40\n"
     ]
    }
   ],
   "source": [
    "#7.Change the name of column “ Quantity” to “Quant”\n",
    "df.rename(columns={'Quantity':'Quant'},inplace=True)\n",
    "print(df)"
   ]
  },
  {
   "cell_type": "code",
   "execution_count": 18,
   "metadata": {},
   "outputs": [
    {
     "name": "stdout",
     "output_type": "stream",
     "text": [
      "    0\n",
      "0  10\n",
      "1  20\n",
      "2  30\n",
      "3  40\n"
     ]
    }
   ],
   "source": [
    "#8.Change the name of columns ProductID and UserID to PID and UID respectively\n",
    "df.rename(columns={'ProductID':'PID','UserID':'UID'},inplace=True)\n",
    "print(df)"
   ]
  },
  {
   "cell_type": "code",
   "execution_count": 47,
   "metadata": {},
   "outputs": [
    {
     "name": "stdout",
     "output_type": "stream",
     "text": [
      "   TransactionID TransactionDate    UserID  ProductID  Quant\n",
      "9             10      2016-05-08  3.000000          4      4\n",
      "8              9      2015-04-24  7.000000          4      3\n",
      "7              8      2014-04-24  3.444444          2      3\n",
      "6              7      2013-12-30  3.000000          4      1\n",
      "5              6      2013-12-23  2.000000          5      6\n",
      "4              5      2013-06-06  2.000000          4      1\n",
      "3              4      2012-08-26  1.000000          2      3\n",
      "2              3      2011-06-16  3.000000          3      1\n",
      "1              2      2011-05-26  3.000000          4      1\n",
      "0              1      2010-08-21  7.000000          2      1\n"
     ]
    }
   ],
   "source": [
    "#9. Order the rows of transactions by TransactionId descending, if ascending then ascending=True\n",
    "df_asc = df.sort_values(by=\"TransactionID\", ascending=False)\n",
    "print(df_asc)\n"
   ]
  },
  {
   "cell_type": "code",
   "execution_count": 48,
   "metadata": {},
   "outputs": [
    {
     "name": "stdout",
     "output_type": "stream",
     "text": [
      "   TransactionID TransactionDate    UserID  ProductID  Quant\n",
      "6              7      2013-12-30  3.000000          4      1\n",
      "4              5      2013-06-06  2.000000          4      1\n",
      "2              3      2011-06-16  3.000000          3      1\n",
      "1              2      2011-05-26  3.000000          4      1\n",
      "0              1      2010-08-21  7.000000          2      1\n",
      "8              9      2015-04-24  7.000000          4      3\n",
      "7              8      2014-04-24  3.444444          2      3\n",
      "3              4      2012-08-26  1.000000          2      3\n",
      "9             10      2016-05-08  3.000000          4      4\n",
      "5              6      2013-12-23  2.000000          5      6\n"
     ]
    }
   ],
   "source": [
    "#10. Order the rows of transactions by Quantity ascending, TransactionDate descending\n",
    "df_sort=df.sort_values(by=['Quant','TransactionDate'],ascending=[True,False])\n",
    "print(df_sort)"
   ]
  },
  {
   "cell_type": "code",
   "execution_count": 51,
   "metadata": {},
   "outputs": [
    {
     "name": "stdout",
     "output_type": "stream",
     "text": [
      "   ProductID  Quant TransactionDate  TransactionID    UserID\n",
      "0          2      1      2010-08-21              1  7.000000\n",
      "1          4      1      2011-05-26              2  3.000000\n",
      "2          3      1      2011-06-16              3  3.000000\n",
      "3          2      3      2012-08-26              4  1.000000\n",
      "4          4      1      2013-06-06              5  2.000000\n",
      "5          5      6      2013-12-23              6  2.000000\n",
      "6          4      1      2013-12-30              7  3.000000\n",
      "7          2      3      2014-04-24              8  3.444444\n",
      "8          4      3      2015-04-24              9  7.000000\n",
      "9          4      4      2016-05-08             10  3.000000\n"
     ]
    }
   ],
   "source": [
    "#11. Set the column order of Transactions as ProductID,Quantity, TransactionDate, TransactionID, UserID\n",
    "select=['ProductID','Quant','TransactionDate','TransactionID','UserID']\n",
    "df_s=df[select]\n",
    "print(df_s)"
   ]
  },
  {
   "cell_type": "code",
   "execution_count": 103,
   "metadata": {},
   "outputs": [
    {
     "name": "stdout",
     "output_type": "stream",
     "text": [
      "        UID  TransactionID TransactionDate  PID  Quant\n",
      "0  7.000000              1      2010-08-21    2      1\n",
      "1  3.000000              2      2011-05-26    4      1\n",
      "2  3.000000              3      2011-06-16    3      1\n",
      "3  1.000000              4      2012-08-26    2      3\n",
      "4  2.000000              5      2013-06-06    4      1\n",
      "5  2.000000              6      2013-12-23    5      6\n",
      "6  3.000000              7      2013-12-30    4      1\n",
      "7  3.444444              8      2014-04-24    2      3\n",
      "8  7.000000              9      2015-04-24    4      3\n",
      "9  3.000000             10      2016-05-08    4      4\n"
     ]
    }
   ],
   "source": [
    "#12. Make UserID the first column of transactions\n",
    "columns_order = ['UID'] + [col for col in df.columns if col != 'UID']\n",
    "df_reordered = df[columns_order]\n",
    "print(df_reordered)\n"
   ]
  },
  {
   "cell_type": "code",
   "execution_count": 52,
   "metadata": {},
   "outputs": [
    {
     "name": "stdout",
     "output_type": "stream",
     "text": [
      "TransactionID               3\n",
      "TransactionDate    2011-06-16\n",
      "UserID                    3.0\n",
      "ProductID                   3\n",
      "Quant                       1\n",
      "Name: 2, dtype: object\n"
     ]
    }
   ],
   "source": [
    "#13. Extracting arrays from a Data Frame. Get the 2nd column\n",
    "print(df.iloc[2])"
   ]
  },
  {
   "cell_type": "code",
   "execution_count": 54,
   "metadata": {},
   "outputs": [
    {
     "name": "stdout",
     "output_type": "stream",
     "text": [
      "0    2\n",
      "1    4\n",
      "2    3\n",
      "3    2\n",
      "4    4\n",
      "5    5\n",
      "6    4\n",
      "7    2\n",
      "8    4\n",
      "9    4\n",
      "Name: ProductID, dtype: int64\n"
     ]
    }
   ],
   "source": [
    "#14. Get the ProductID Array\n",
    "print(df.ProductID)"
   ]
  },
  {
   "cell_type": "code",
   "execution_count": 55,
   "metadata": {},
   "outputs": [
    {
     "name": "stdout",
     "output_type": "stream",
     "text": [
      "   TransactionID TransactionDate  UserID  ProductID  Quant\n",
      "1              2      2011-05-26     3.0          4      1\n",
      "3              4      2012-08-26     1.0          2      3\n",
      "6              7      2013-12-30     3.0          4      1\n"
     ]
    }
   ],
   "source": [
    "#16.Row subsetting, subset rows 1,3 and 6\n",
    "sub=df.iloc[[1,3,6]]\n",
    "print(sub)"
   ]
  },
  {
   "cell_type": "code",
   "execution_count": 56,
   "metadata": {},
   "outputs": [
    {
     "name": "stdout",
     "output_type": "stream",
     "text": [
      "   TransactionID TransactionDate    UserID  ProductID  Quant\n",
      "0              1      2010-08-21  7.000000          2      1\n",
      "2              3      2011-06-16  3.000000          3      1\n",
      "4              5      2013-06-06  2.000000          4      1\n",
      "5              6      2013-12-23  2.000000          5      6\n",
      "7              8      2014-04-24  3.444444          2      3\n",
      "8              9      2015-04-24  7.000000          4      3\n",
      "9             10      2016-05-08  3.000000          4      4\n"
     ]
    }
   ],
   "source": [
    "#17. subset rows excluding 1,3 and 6\n",
    "rows=[1,3,6]\n",
    "sub=df.drop(index=rows)\n",
    "print(sub)"
   ]
  },
  {
   "cell_type": "code",
   "execution_count": 57,
   "metadata": {},
   "outputs": [
    {
     "name": "stdout",
     "output_type": "stream",
     "text": [
      "   TransactionID TransactionDate  UserID  ProductID  Quant\n",
      "0              1      2010-08-21     7.0          2      1\n",
      "1              2      2011-05-26     3.0          4      1\n",
      "2              3      2011-06-16     3.0          3      1\n"
     ]
    }
   ],
   "source": [
    "#18. Subset the first three rows\n",
    "sub=df.head(3)\n",
    "print(sub)"
   ]
  },
  {
   "cell_type": "code",
   "execution_count": 58,
   "metadata": {},
   "outputs": [
    {
     "name": "stdout",
     "output_type": "stream",
     "text": [
      "   TransactionID TransactionDate  UserID  ProductID  Quant\n",
      "8              9      2015-04-24     7.0          4      3\n",
      "9             10      2016-05-08     3.0          4      4\n"
     ]
    }
   ],
   "source": [
    "#19. Subset the last 2 rows\n",
    "sub=df.tail(2)\n",
    "print(sub)"
   ]
  },
  {
   "cell_type": "code",
   "execution_count": 59,
   "metadata": {},
   "outputs": [
    {
     "name": "stdout",
     "output_type": "stream",
     "text": [
      "   TransactionID TransactionDate    UserID  ProductID  Quant\n",
      "0              1      2010-08-21  7.000000          2      1\n",
      "1              2      2011-05-26  3.000000          4      1\n",
      "2              3      2011-06-16  3.000000          3      1\n",
      "3              4      2012-08-26  1.000000          2      3\n",
      "4              5      2013-06-06  2.000000          4      1\n",
      "5              6      2013-12-23  2.000000          5      6\n",
      "6              7      2013-12-30  3.000000          4      1\n",
      "7              8      2014-04-24  3.444444          2      3\n"
     ]
    }
   ],
   "source": [
    "#20. Subset rows excluding the last 2 rows\n",
    "dfs=df[:-2]\n",
    "print(dfs)"
   ]
  },
  {
   "cell_type": "code",
   "execution_count": 60,
   "metadata": {},
   "outputs": [
    {
     "name": "stdout",
     "output_type": "stream",
     "text": [
      "   TransactionID TransactionDate    UserID  ProductID  Quant\n",
      "3              4      2012-08-26  1.000000          2      3\n",
      "4              5      2013-06-06  2.000000          4      1\n",
      "5              6      2013-12-23  2.000000          5      6\n",
      "6              7      2013-12-30  3.000000          4      1\n",
      "7              8      2014-04-24  3.444444          2      3\n",
      "8              9      2015-04-24  7.000000          4      3\n",
      "9             10      2016-05-08  3.000000          4      4\n"
     ]
    }
   ],
   "source": [
    "#21. Subset rows excluding the first 3 rows\n",
    "dfs=df[3:]\n",
    "print(dfs)"
   ]
  },
  {
   "cell_type": "code",
   "execution_count": 61,
   "metadata": {},
   "outputs": [
    {
     "name": "stdout",
     "output_type": "stream",
     "text": [
      "   TransactionID TransactionDate    UserID  ProductID  Quant\n",
      "3              4      2012-08-26  1.000000          2      3\n",
      "5              6      2013-12-23  2.000000          5      6\n",
      "7              8      2014-04-24  3.444444          2      3\n",
      "8              9      2015-04-24  7.000000          4      3\n",
      "9             10      2016-05-08  3.000000          4      4\n"
     ]
    }
   ],
   "source": [
    "#22. Subset rows where Quantity>1\n",
    "subset = df[df['Quant'] > 1]\n",
    "print(subset)"
   ]
  },
  {
   "cell_type": "code",
   "execution_count": 63,
   "metadata": {},
   "outputs": [
    {
     "name": "stdout",
     "output_type": "stream",
     "text": [
      "   TransactionID TransactionDate  UserID  ProductID  Quant\n",
      "4              5      2013-06-06     2.0          4      1\n",
      "5              6      2013-12-23     2.0          5      6\n"
     ]
    }
   ],
   "source": [
    "#23. Subset rows where UserID=2\n",
    "subset=df[df['UserID']==2]\n",
    "print(subset)\n"
   ]
  },
  {
   "cell_type": "code",
   "execution_count": 64,
   "metadata": {},
   "outputs": [
    {
     "name": "stdout",
     "output_type": "stream",
     "text": [
      "   TransactionID TransactionDate  UserID  ProductID  Quant\n",
      "5              6      2013-12-23     2.0          5      6\n"
     ]
    }
   ],
   "source": [
    "#24. Subset rows where Quantity>1 and UserID=2\n",
    "subset=df[(df['UserID']==2) & (df['Quant']>1)]\n",
    "print(subset)"
   ]
  },
  {
   "cell_type": "code",
   "execution_count": 65,
   "metadata": {},
   "outputs": [
    {
     "name": "stdout",
     "output_type": "stream",
     "text": [
      "   TransactionID TransactionDate    UserID  ProductID  Quant\n",
      "0              1      2010-08-21  7.000000          2      1\n",
      "1              2      2011-05-26  3.000000          4      1\n",
      "2              3      2011-06-16  3.000000          3      1\n",
      "3              4      2012-08-26  1.000000          2      3\n",
      "5              6      2013-12-23  2.000000          5      6\n",
      "6              7      2013-12-30  3.000000          4      1\n",
      "7              8      2014-04-24  3.444444          2      3\n",
      "8              9      2015-04-24  7.000000          4      3\n",
      "9             10      2016-05-08  3.000000          4      4\n"
     ]
    }
   ],
   "source": [
    "#25. Subset rows where Quantity + UserID is >3\n",
    "subset=df[df['UserID']+df['Quant']>3]\n",
    "print(subset)"
   ]
  },
  {
   "cell_type": "code",
   "execution_count": 66,
   "metadata": {},
   "outputs": [
    {
     "name": "stdout",
     "output_type": "stream",
     "text": [
      "   TransactionID TransactionDate  UserID  ProductID  Quant\n",
      "0              1      2010-08-21     7.0          2      1\n",
      "2              3      2011-06-16     3.0          3      1\n",
      "5              6      2013-12-23     2.0          5      6\n",
      "8              9      2015-04-24     7.0          4      3\n"
     ]
    }
   ],
   "source": [
    "#26. Subset rows where an external array, foo, is True\n",
    "foo = [True, False, True, False, False, True, False, False, True, False] # Example of a boolean array\n",
    "subset_rows = df[foo]\n",
    "print(subset_rows)"
   ]
  },
  {
   "cell_type": "code",
   "execution_count": 148,
   "metadata": {},
   "outputs": [],
   "source": [
    "#27. Subset rows where an external array, bar, is positive"
   ]
  },
  {
   "cell_type": "code",
   "execution_count": 10,
   "metadata": {},
   "outputs": [
    {
     "data": {
      "text/html": [
       "<div>\n",
       "<style scoped>\n",
       "    .dataframe tbody tr th:only-of-type {\n",
       "        vertical-align: middle;\n",
       "    }\n",
       "\n",
       "    .dataframe tbody tr th {\n",
       "        vertical-align: top;\n",
       "    }\n",
       "\n",
       "    .dataframe thead th {\n",
       "        text-align: right;\n",
       "    }\n",
       "</style>\n",
       "<table border=\"1\" class=\"dataframe\">\n",
       "  <thead>\n",
       "    <tr style=\"text-align: right;\">\n",
       "      <th></th>\n",
       "      <th>0</th>\n",
       "    </tr>\n",
       "  </thead>\n",
       "  <tbody>\n",
       "    <tr>\n",
       "      <th>0</th>\n",
       "      <td>10</td>\n",
       "    </tr>\n",
       "    <tr>\n",
       "      <th>1</th>\n",
       "      <td>20</td>\n",
       "    </tr>\n",
       "    <tr>\n",
       "      <th>2</th>\n",
       "      <td>30</td>\n",
       "    </tr>\n",
       "    <tr>\n",
       "      <th>3</th>\n",
       "      <td>40</td>\n",
       "    </tr>\n",
       "  </tbody>\n",
       "</table>\n",
       "</div>"
      ],
      "text/plain": [
       "    0\n",
       "0  10\n",
       "1  20\n",
       "2  30\n",
       "3  40"
      ]
     },
     "execution_count": 10,
     "metadata": {},
     "output_type": "execute_result"
    }
   ],
   "source": [
    "#30. Subset by columns 1 and 3\n"
   ]
  },
  {
   "cell_type": "code",
   "execution_count": 67,
   "metadata": {},
   "outputs": [
    {
     "data": {
      "text/html": [
       "<div>\n",
       "<style scoped>\n",
       "    .dataframe tbody tr th:only-of-type {\n",
       "        vertical-align: middle;\n",
       "    }\n",
       "\n",
       "    .dataframe tbody tr th {\n",
       "        vertical-align: top;\n",
       "    }\n",
       "\n",
       "    .dataframe thead th {\n",
       "        text-align: right;\n",
       "    }\n",
       "</style>\n",
       "<table border=\"1\" class=\"dataframe\">\n",
       "  <thead>\n",
       "    <tr style=\"text-align: right;\">\n",
       "      <th></th>\n",
       "      <th>TransactionID</th>\n",
       "      <th>TransactionDate</th>\n",
       "    </tr>\n",
       "  </thead>\n",
       "  <tbody>\n",
       "    <tr>\n",
       "      <th>0</th>\n",
       "      <td>1</td>\n",
       "      <td>2010-08-21</td>\n",
       "    </tr>\n",
       "    <tr>\n",
       "      <th>1</th>\n",
       "      <td>2</td>\n",
       "      <td>2011-05-26</td>\n",
       "    </tr>\n",
       "    <tr>\n",
       "      <th>2</th>\n",
       "      <td>3</td>\n",
       "      <td>2011-06-16</td>\n",
       "    </tr>\n",
       "    <tr>\n",
       "      <th>3</th>\n",
       "      <td>4</td>\n",
       "      <td>2012-08-26</td>\n",
       "    </tr>\n",
       "    <tr>\n",
       "      <th>4</th>\n",
       "      <td>5</td>\n",
       "      <td>2013-06-06</td>\n",
       "    </tr>\n",
       "    <tr>\n",
       "      <th>5</th>\n",
       "      <td>6</td>\n",
       "      <td>2013-12-23</td>\n",
       "    </tr>\n",
       "    <tr>\n",
       "      <th>6</th>\n",
       "      <td>7</td>\n",
       "      <td>2013-12-30</td>\n",
       "    </tr>\n",
       "    <tr>\n",
       "      <th>7</th>\n",
       "      <td>8</td>\n",
       "      <td>2014-04-24</td>\n",
       "    </tr>\n",
       "    <tr>\n",
       "      <th>8</th>\n",
       "      <td>9</td>\n",
       "      <td>2015-04-24</td>\n",
       "    </tr>\n",
       "    <tr>\n",
       "      <th>9</th>\n",
       "      <td>10</td>\n",
       "      <td>2016-05-08</td>\n",
       "    </tr>\n",
       "  </tbody>\n",
       "</table>\n",
       "</div>"
      ],
      "text/plain": [
       "   TransactionID TransactionDate\n",
       "0              1      2010-08-21\n",
       "1              2      2011-05-26\n",
       "2              3      2011-06-16\n",
       "3              4      2012-08-26\n",
       "4              5      2013-06-06\n",
       "5              6      2013-12-23\n",
       "6              7      2013-12-30\n",
       "7              8      2014-04-24\n",
       "8              9      2015-04-24\n",
       "9             10      2016-05-08"
      ]
     },
     "execution_count": 67,
     "metadata": {},
     "output_type": "execute_result"
    }
   ],
   "source": [
    "#31. Subset by columns TransactionID and TransactionDate\n",
    "cols=['TransactionID','TransactionDate']\n",
    "sub=df[cols]\n",
    "sub"
   ]
  },
  {
   "cell_type": "code",
   "execution_count": 84,
   "metadata": {},
   "outputs": [
    {
     "name": "stdout",
     "output_type": "stream",
     "text": [
      "   TransactionID TransactionDate\n",
      "1              2      2011-05-26\n",
      "2              3      2011-06-16\n",
      "3              4      2012-08-26\n",
      "5              6      2013-12-23\n",
      "6              7      2013-12-30\n",
      "7              8      2014-04-24\n",
      "8              9      2015-04-24\n",
      "9             10      2016-05-08\n"
     ]
    }
   ],
   "source": [
    "#32. Subset by columns TransactionID and TransactionDate with logical operator\n",
    "df = pd.read_csv('transactions.csv')\n",
    "\n",
    "df_subset = df[(df[\"Quantity\"] > 2) | (df[\"UserID\"] == 3)][[\"TransactionID\", \"TransactionDate\"]]\n",
    "print(df_subset)\n"
   ]
  },
  {
   "cell_type": "code",
   "execution_count": null,
   "metadata": {},
   "outputs": [],
   "source": [
    "\n"
   ]
  },
  {
   "cell_type": "code",
   "execution_count": null,
   "metadata": {},
   "outputs": [],
   "source": []
  }
 ],
 "metadata": {
  "kernelspec": {
   "display_name": "Python 3 (ipykernel)",
   "language": "python",
   "name": "python3"
  },
  "language_info": {
   "codemirror_mode": {
    "name": "ipython",
    "version": 3
   },
   "file_extension": ".py",
   "mimetype": "text/x-python",
   "name": "python",
   "nbconvert_exporter": "python",
   "pygments_lexer": "ipython3",
   "version": "3.10.12"
  }
 },
 "nbformat": 4,
 "nbformat_minor": 4
}
